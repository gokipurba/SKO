{
 "cells": [
  {
   "cell_type": "code",
   "execution_count": 1,
   "id": "874aabc3",
   "metadata": {},
   "outputs": [],
   "source": [
    "import math as m\n",
    "\n",
    "L_haspel = 2 # km/haspel\n",
    "loss_splcing = 0.1 #dB /splice\n",
    "loss_fo = 0.3 #dB/km\n",
    "loss_konektor = 0.5 #dB /bh\n",
    "loss_splitter8 = 10.38 #dB\n",
    "loss_splitter4 = 7.25 #dB\n",
    "margin = 6 #margin dB\n",
    "pt = 10 #dBm\n",
    "B = 1000 #(MBps)\n",
    "Dmat = 2 #ps/(km-nm)\n",
    "D = 1 #dispersi\n",
    "u = 3*10**-9 #lebar spektral\n",
    "tmat = D*6.4*u #rise time material\n",
    "tmod = (440/B) #rise time mod\n",
    "trx  = 0.2 #rise time Rx \n",
    "tx  = 0.25 #rise time Tx dalam us\n",
    "\n",
    "def plb(lc, ls, lf, sp4, sp8, margin, pt):\n",
    "    ltotal = (lc + ls + lf + sp4 + sp8 + margin)\n",
    "    pr = pt - ltotal # power link budget\n",
    "    M = (pt + pr)\n",
    "    return ltotal, pr, M\n",
    "\n",
    "def powerlinkbudget(n_con=0, n_sp4=0, n_sp8=0, L=0 ):\n",
    "    L_haspel = 2 # km/haspel\n",
    "    lc = loss_konektor*n_con\n",
    "    ls = loss_splcing*((L/L_haspel)-1)\n",
    "    lf = loss_fo*L\n",
    "    sp4 = loss_splitter4*n_sp4\n",
    "    sp8 = loss_splitter8*n_sp8\n",
    "    ltotal, pr, M = plb(lc,ls, lf, sp4, sp8, margin, pt)\n",
    "    return ltotal, pr, M\n",
    "\n",
    "def risetime(tx, tmat, tmod, trx):\n",
    "    tsy = m.sqrt(((tx**2) + (tmat**2) + (tmod**2) + (trx**2)))\n",
    "    return tsy\n",
    "\n",
    "def my_value(number):\n",
    "    return (\"{:,}\".format(number))"
   ]
  },
  {
   "cell_type": "code",
   "execution_count": 2,
   "id": "aa803688",
   "metadata": {},
   "outputs": [
    {
     "name": "stdout",
     "output_type": "stream",
     "text": [
      "Hasil simulasi Jalur ODP 1, LTOTAL = 61.34 dB, Power Link Budget = -51.34 dB, Margin = -41.34 dB\n",
      "Hasil simulasi Jalur ODP 2, LTOTAL = 61.42 dB, Power Link Budget = -51.42 dB, Margin = -41.42 dB\n",
      "Hasil simulasi Jalur ODP 3, LTOTAL = 49.94 dB, Power Link Budget = -39.94 dB, Margin = -29.94 dB\n",
      "Hasil simulasi Jalur ODP 4, LTOTAL = 28.14 dB, Power Link Budget = -18.14 dB, Margin = -8.14 dB\n",
      "Hasil simulasi Jalur ODP 5, LTOTAL = 58.199 dB, Power Link Budget = -48.2 dB, Margin = -38.2 dB\n"
     ]
    }
   ],
   "source": [
    "ltotal1, plb1, M1  = powerlinkbudget(n_con=10, n_sp4= 1, n_sp8= 4, L= 4.77)\n",
    "ltotal2, plb2, M2 = powerlinkbudget(n_con=10, n_sp4= 1, n_sp8= 4, L= 5.01)\n",
    "ltotal3, plb3, M3 = powerlinkbudget(n_con=8, n_sp4= 1, n_sp8= 3, L= 4.7)\n",
    "ltotal4, plb4, M4 = powerlinkbudget(n_con=6, n_sp4= 1, n_sp8= 1, L= 4.61)\n",
    "ltotal5, plb5, M5 = powerlinkbudget(n_con=10, n_sp4= 2, n_sp8= 3, L= 4.74)\n",
    "print(f\"Hasil simulasi Jalur ODP 1, LTOTAL = {round(ltotal1,2)} dB, Power Link Budget = {round(plb1,2)} dB, Margin = {round(M1,2)} dB\")\n",
    "print(f\"Hasil simulasi Jalur ODP 2, LTOTAL = {round(ltotal2,2)} dB, Power Link Budget = {round(plb2,2)} dB, Margin = {round(M2,2)} dB\")\n",
    "print(f\"Hasil simulasi Jalur ODP 3, LTOTAL = {round(ltotal3,2)} dB, Power Link Budget = {round(plb3,2)} dB, Margin = {round(M3,2)} dB\")\n",
    "print(f\"Hasil simulasi Jalur ODP 4, LTOTAL = {round(ltotal4,2)} dB, Power Link Budget = {round(plb4,2)} dB, Margin = {round(M4,2)} dB\")\n",
    "print(f\"Hasil simulasi Jalur ODP 5, LTOTAL = {round(ltotal5,3)} dB, Power Link Budget = {round(plb5,2)} dB, Margin = {round(M5,2)} dB\")\n"
   ]
  },
  {
   "cell_type": "code",
   "execution_count": 3,
   "id": "5a8687f0",
   "metadata": {},
   "outputs": [
    {
     "name": "stdout",
     "output_type": "stream",
     "text": [
      "Hasil perhitungan BNRZ = 1,286,408,308.31 Bit/s \n",
      "Hasil perhitungan B_RZ = 643,204,154.16 Bit/s\n"
     ]
    }
   ],
   "source": [
    "tsy = risetime(tx, tmat, tmod, trx)\n",
    "tsy = tsy * 10**-9\n",
    "B_NRZ = 0.7/tsy\n",
    "B_RZ  = 0.35/tsy\n",
    "\n",
    "print(f\"Hasil perhitungan BNRZ = {my_value(round(B_NRZ,2))} Bit/s \\nHasil perhitungan B_RZ = {my_value(round(B_RZ,2))} Bit/s\")"
   ]
  },
  {
   "cell_type": "code",
   "execution_count": 4,
   "id": "63c3bfc7",
   "metadata": {},
   "outputs": [
    {
     "data": {
      "text/plain": [
       "5.44150714416512e-10"
      ]
     },
     "execution_count": 4,
     "metadata": {},
     "output_type": "execute_result"
    }
   ],
   "source": [
    "tsy"
   ]
  },
  {
   "cell_type": "code",
   "execution_count": 5,
   "id": "ed9d6022",
   "metadata": {},
   "outputs": [
    {
     "name": "stdout",
     "output_type": "stream",
     "text": [
      "Hasil simulasi Jalur ODP 1, LTOTAL = 28.2 dB, Power Link Budget = -18.2 dB, Margin = -8.2 dB\n",
      "Hasil simulasi Jalur ODP 2, LTOTAL = 28.28 dB, Power Link Budget = -18.28 dB, Margin = -8.28 dB\n",
      "Hasil simulasi Jalur ODP 3, LTOTAL = 28.18 dB, Power Link Budget = -18.18 dB, Margin = -8.18 dB\n",
      "Hasil simulasi Jalur ODP 4, LTOTAL = 28.14 dB, Power Link Budget = -18.14 dB, Margin = -8.14 dB\n",
      "Hasil simulasi Jalur ODP 5, LTOTAL = 28.189 dB, Power Link Budget = -18.19 dB, Margin = -8.19 dB\n"
     ]
    }
   ],
   "source": [
    "ltotal1, plb1, M1  = powerlinkbudget(n_con=6, n_sp4= 1, n_sp8= 1, L= 4.77)\n",
    "ltotal2, plb2, M2 = powerlinkbudget(n_con=6, n_sp4= 1, n_sp8= 1, L= 5.01)\n",
    "ltotal3, plb3, M3 = powerlinkbudget(n_con=6, n_sp4= 1, n_sp8= 1, L= 4.7)\n",
    "ltotal4, plb4, M4 = powerlinkbudget(n_con=6, n_sp4= 1, n_sp8= 1, L= 4.61)\n",
    "ltotal5, plb5, M5 = powerlinkbudget(n_con=6, n_sp4= 1, n_sp8= 1, L= 4.74)\n",
    "print(f\"Hasil simulasi Jalur ODP 1, LTOTAL = {round(ltotal1,2)} dB, Power Link Budget = {round(plb1,2)} dB, Margin = {round(M1,2)} dB\")\n",
    "print(f\"Hasil simulasi Jalur ODP 2, LTOTAL = {round(ltotal2,2)} dB, Power Link Budget = {round(plb2,2)} dB, Margin = {round(M2,2)} dB\")\n",
    "print(f\"Hasil simulasi Jalur ODP 3, LTOTAL = {round(ltotal3,2)} dB, Power Link Budget = {round(plb3,2)} dB, Margin = {round(M3,2)} dB\")\n",
    "print(f\"Hasil simulasi Jalur ODP 4, LTOTAL = {round(ltotal4,2)} dB, Power Link Budget = {round(plb4,2)} dB, Margin = {round(M4,2)} dB\")\n",
    "print(f\"Hasil simulasi Jalur ODP 5, LTOTAL = {round(ltotal5,3)} dB, Power Link Budget = {round(plb5,2)} dB, Margin = {round(M5,2)} dB\")\n"
   ]
  },
  {
   "cell_type": "code",
   "execution_count": null,
   "id": "94787381",
   "metadata": {},
   "outputs": [],
   "source": [
    "menambhakan IF  untuk RTB "
   ]
  }
 ],
 "metadata": {
  "kernelspec": {
   "display_name": "Python 3 (ipykernel)",
   "language": "python",
   "name": "python3"
  },
  "language_info": {
   "codemirror_mode": {
    "name": "ipython",
    "version": 3
   },
   "file_extension": ".py",
   "mimetype": "text/x-python",
   "name": "python",
   "nbconvert_exporter": "python",
   "pygments_lexer": "ipython3",
   "version": "3.9.5"
  }
 },
 "nbformat": 4,
 "nbformat_minor": 5
}
